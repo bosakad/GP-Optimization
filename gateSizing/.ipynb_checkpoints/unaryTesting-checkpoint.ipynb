{
 "cells": [
  {
   "cell_type": "code",
   "execution_count": 1,
   "id": "f28182ab",
   "metadata": {},
   "outputs": [],
   "source": [
    "import histogramGenerator\n",
    "import test_infiniteLadder \n",
    "import numpy as np\n",
    "from test_algorithms import computeMAPE\n",
    "import matplotlib.pyplot as plt\n",
    "import SSTA\n",
    "from test_SSTA_Numpy import putTuplesIntoArray\n",
    "\n",
    "from randomVariableHist_Numpy import RandomVariable\n",
    "\n",
    "from examples_monteCarlo.infinite_ladder_montecarlo import MonteCarlo_inputs, MonteCarlo_nodes, get_moments_from_simulations\n",
    "\n",
    "\n",
    "from Main.node import Node\n",
    "from tabulate import tabulate\n",
    "%load_ext autoreload\n",
    "%autoreload 2\n",
    "%reload_ext autoreload"
   ]
  },
  {
   "cell_type": "code",
   "execution_count": 2,
   "id": "c6b1eb80",
   "metadata": {},
   "outputs": [],
   "source": [
    "# test max computation\n",
    "\n",
    "def testMax(numberOfBins, numberOfUnaries):\n",
    "\n",
    "    mu1 = 12\n",
    "    sigma1 = 2\n",
    "\n",
    "    mu2 = 6\n",
    "    sigma2 = 3\n",
    "\n",
    "    \n",
    "    numberOfSamples = 20000000\n",
    "#     numberOfBins = 100\n",
    "#     numberOfUnaries = 10000\n",
    "\n",
    "    interval = (-5, 20)\n",
    "\n",
    "    # DESIRED\n",
    "\n",
    "    rv1 = np.random.normal(mu1, sigma1, numberOfSamples)\n",
    "    rv2 = np.random.normal(mu2, sigma2, numberOfSamples)\n",
    "\n",
    "    max1 = np.maximum(rv1, rv2)\n",
    "    desired = np.array([np.mean(max1), np.std(max1)])\n",
    "\n",
    "\n",
    "    # ACTUAL\n",
    "\n",
    "    # histogram1\n",
    "    h1 = histogramGenerator.get_gauss_bins_UNARY(mu1, sigma1, numberOfBins, numberOfSamples, interval, numberOfUnaries)\n",
    "    h2 = histogramGenerator.get_gauss_bins_UNARY(mu2, sigma2, numberOfBins, numberOfSamples, interval, numberOfUnaries)\n",
    "\n",
    "    max2 = h1.maxOfDistributionsQUAD_FORMULA_UNARY(h2)\n",
    "\n",
    "    actual = np.array([max2.mean, max2.std])\n",
    "\n",
    "    \n",
    "    return (actual, desired)\n",
    "    \n",
    "        # TESTING\n",
    "\n",
    "#     np.testing.assert_almost_equal(desired, actual, decimal=5)"
   ]
  },
  {
   "cell_type": "code",
   "execution_count": 6,
   "id": "0000b1ee",
   "metadata": {},
   "outputs": [
    {
     "name": "stdout",
     "output_type": "stream",
     "text": [
      "[12.03525641  1.94264351] [12.07289075  1.95027745]\n",
      "[0.31172604 0.3914281 ]\n"
     ]
    }
   ],
   "source": [
    "# test max as wanted\n",
    "\n",
    "numberOfBins = 50\n",
    "numberOfUnaries = 90\n",
    "actual, desired = testMax(numberOfBins, numberOfUnaries)\n",
    "\n",
    "MAPE = 100 * np.abs((actual - desired) / desired)\n",
    "\n",
    "print(actual, desired)\n",
    "print(MAPE)"
   ]
  },
  {
   "cell_type": "code",
   "execution_count": 3,
   "id": "f6cfbb5e",
   "metadata": {},
   "outputs": [],
   "source": [
    "# test mean computation\n",
    "\n",
    "def testConvolution(numberOfBins, numberOfUnaries):\n",
    "\n",
    "    mu1 = 12\n",
    "    sigma1 = 2\n",
    "\n",
    "    mu2 = 8\n",
    "    sigma2 = 1.3\n",
    "\n",
    "    \n",
    "    numberOfSamples = 20000000\n",
    "#     numberOfBins = 100\n",
    "#     numberOfUnaries = 10000\n",
    "\n",
    "    interval = (-5, 40)\n",
    "\n",
    "    # DESIRED\n",
    "\n",
    "    rv1 = np.random.normal(mu1, sigma1, numberOfSamples)\n",
    "    rv2 = np.random.normal(mu2, sigma2, numberOfSamples)\n",
    "\n",
    "    max1 = rv1 + rv2\n",
    "    desired = np.array([np.mean(max1), np.std(max1)])\n",
    "\n",
    "\n",
    "    # ACTUAL\n",
    "\n",
    "    # histogram1\n",
    "    h1 = histogramGenerator.get_gauss_bins_UNARY(mu1, sigma1, numberOfBins, numberOfSamples, interval, numberOfUnaries)\n",
    "    h2 = histogramGenerator.get_gauss_bins_UNARY(mu2, sigma2, numberOfBins, numberOfSamples, interval, numberOfUnaries)\n",
    "\n",
    "    \n",
    "    rv1 = histogramGenerator.get_gauss_bins(mu1, sigma1, numberOfBins, numberOfSamples, interval)\n",
    "    rv2 = histogramGenerator.get_gauss_bins(mu2, sigma2, numberOfBins, numberOfSamples, interval)\n",
    "\n",
    "    \n",
    "    max2 = h1.convolutionOfTwoVarsNaiveSAME_UNARY(h2)\n",
    "#     max2 = rv1.convolutionOfTwoVarsShift(rv2)\n",
    "\n",
    "    actual = np.array([max2.mean, max2.std])\n",
    "\n",
    "    \n",
    "    return (actual, desired)\n",
    "    \n",
    "        # TESTING\n",
    "\n",
    "#     np.testing.assert_almost_equal(desired, actual, decimal=5)"
   ]
  },
  {
   "cell_type": "code",
   "execution_count": 6,
   "id": "0eeef356",
   "metadata": {},
   "outputs": [
    {
     "name": "stdout",
     "output_type": "stream",
     "text": [
      "[20.00959704  2.4024244 ] [20.00110489  2.38591951]\n",
      "[0.0424584  0.69176192]\n"
     ]
    }
   ],
   "source": [
    "# test convolution as wanted\n",
    "\n",
    "numberOfBins = 500\n",
    "numberOfUnaries = 800\n",
    "actual, desired = testConvolution(numberOfBins, numberOfUnaries)\n",
    "\n",
    "MAPE = 100 * np.abs((actual - desired) / desired)\n",
    "\n",
    "print(actual, desired)\n",
    "print(MAPE)"
   ]
  },
  {
   "cell_type": "code",
   "execution_count": 4,
   "id": "dc51294e",
   "metadata": {},
   "outputs": [],
   "source": [
    "# test infinite ladder function\n",
    "\n",
    "def LadderNumpy(numberOfBins=100, numberOfUnaries=100, number_of_nodes=1, interval=(-8, 20)):\n",
    "\n",
    "    n_samples = 2000000\n",
    "    seed = 0\n",
    "\n",
    "    gateParams = [0.0, 1.0]\n",
    "\n",
    "    # fix a random seed seed exists\n",
    "    if seed != None:\n",
    "        seed = seed\n",
    "        np.random.seed(seed)\n",
    "\n",
    "        \n",
    "    ####################################\n",
    "    ####### Generate Input data ########\n",
    "    ####################################\n",
    "\n",
    "    # list with inputs' mean values\n",
    "    input_means = [np.random.randint(20, 70) / 10 for _ in range(number_of_nodes + 1)]\n",
    "    # list with inputs' stds\n",
    "    input_stds = [np.random.randint(20, 130) / 100 for _ in range(number_of_nodes + 1)]\n",
    "\n",
    "    # CVXPY\n",
    "\n",
    "    constraints = []\n",
    "\n",
    "    # generate inputs\n",
    "    startingNodes = []\n",
    "    for i in range(0, number_of_nodes + 1):\n",
    "        g = histogramGenerator.get_gauss_bins_UNARY(input_means[i], input_stds[i], numberOfBins, n_samples,\n",
    "                                                    interval, numberOfUnaries)\n",
    "\n",
    "        node = Node(g)\n",
    "        startingNodes.append(node)\n",
    "\n",
    "        # generetate nodes\n",
    "    generatedNodes = []\n",
    "    for i in range(0, number_of_nodes):\n",
    "        g = histogramGenerator.get_gauss_bins_UNARY(gateParams[0], gateParams[1], numberOfBins, n_samples, interval,\n",
    "                                                    numberOfUnaries)\n",
    "\n",
    "        node = Node(g)\n",
    "        generatedNodes.append(node)\n",
    "\n",
    "    # set circuit design\n",
    "\n",
    "    # start\n",
    "    startingNodes[0].setNextNodes([generatedNodes[0]])\n",
    "\n",
    "    # upper part\n",
    "    for i in range(1, number_of_nodes + 1):\n",
    "        start = startingNodes[i]\n",
    "        start.setNextNodes([generatedNodes[i - 1]])\n",
    "\n",
    "        # lower part\n",
    "    for i in range(0, number_of_nodes - 1):\n",
    "        node = generatedNodes[i]\n",
    "        node.setNextNodes([generatedNodes[i + 1]])\n",
    "\n",
    "    delays = SSTA.calculateCircuitDelay(startingNodes, cvxpy=False, unary=True)\n",
    "\n",
    "    delays = delays[number_of_nodes + 1:]\n",
    "\n",
    "    rvs = []\n",
    "\n",
    "    for gate in range(0, number_of_nodes):  # construct RVs\n",
    "\n",
    "        finalBins = np.zeros((numberOfBins, numberOfUnaries))\n",
    "        for bin in range(0, numberOfBins):\n",
    "            for unary in range(0, numberOfUnaries):\n",
    "                finalBins[bin, unary] = ((delays[gate].bins)[bin])[unary]\n",
    "\n",
    "        rvs.append(RandomVariable(finalBins, generatedNodes[0].randVar.edges, unary=True))\n",
    "\n",
    "    # simulate inputs\n",
    "    nodes_simulation = [0 for _ in range(number_of_nodes)]\n",
    "    inputs_simulation = MonteCarlo_inputs(input_means, input_stds, n_samples, 'Normal')\n",
    "\n",
    "    # traverse the circuit\n",
    "    nodes_simulation[0] = MonteCarlo_nodes(inputs_simulation[0], inputs_simulation[1], gateParams, n_samples)\n",
    "    for i in range(1, number_of_nodes):\n",
    "        nodes_simulation[i] = MonteCarlo_nodes(nodes_simulation[i - 1], inputs_simulation[i + 1], gateParams,\n",
    "                                               n_samples)\n",
    "\n",
    "    desired = get_moments_from_simulations(nodes_simulation)\n",
    "\n",
    "        \n",
    "    return np.array([rvs[-1].mean, rvs[-1].std]), np.array(desired[0])\n"
   ]
  },
  {
   "cell_type": "code",
   "execution_count": 8,
   "id": "47768cc1",
   "metadata": {},
   "outputs": [
    {
     "name": "stdout",
     "output_type": "stream",
     "text": [
      "[7.09666667 1.34364347] [7.04774699 1.23018441]\n",
      "[0.694118   9.22293115]\n"
     ]
    }
   ],
   "source": [
    "numberOfNodes = 1\n",
    "numberOfBins = 186\n",
    "numberOfUnaries = 108\n",
    "\n",
    "actual, desired = LadderNumpy(numberOfBins, numberOfUnaries, numberOfNodes)\n",
    "\n",
    "# actual = np.zeros((numberOfNodes, 2))\n",
    "# desired = np.zeros((numberOfNodes, 2))\n",
    "\n",
    "# for i in range(0, numberOfNodes):\n",
    "#     actual[i, 0] = actualNonForm[i].mean\n",
    "#     actual[i, 1] = actualNonForm[i].std\n",
    "    \n",
    "#     desired[i, 0] = desiredNonForm[i, 0]\n",
    "#     desired[i, 1] = desiredNonForm[i, 1]\n",
    "    \n",
    "\n",
    "\n",
    "MAPE = 100 * np.abs((actual - desired) / desired)\n",
    "\n",
    "print(actual, desired)\n",
    "print(MAPE)"
   ]
  },
  {
   "cell_type": "code",
   "execution_count": null,
   "id": "2ecd8f44",
   "metadata": {},
   "outputs": [],
   "source": []
  },
  {
   "cell_type": "code",
   "execution_count": null,
   "id": "435b0e5e",
   "metadata": {},
   "outputs": [],
   "source": [
    "        # HEAT MAPS"
   ]
  },
  {
   "cell_type": "code",
   "execution_count": 10,
   "id": "b7299750",
   "metadata": {},
   "outputs": [
    {
     "name": "stdout",
     "output_type": "stream",
     "text": [
      "bins:10\n",
      "unaries: 10\n",
      "[18.85        3.36749165]\n",
      "[20.00079693  2.38548551]\n",
      "[ 5.7537554  41.16588129]\n",
      "bins:10\n",
      "unaries: 12\n",
      "[18.69117647  3.28491361]\n",
      "[19.99978649  2.38576515]\n",
      "[ 6.54311997 37.68805399]\n",
      "bins:12\n",
      "unaries: 10\n",
      "[19.375  1.875]\n",
      "[19.99901596  2.38475026]\n",
      "[ 3.12023333 21.37541493]\n",
      "bins:12\n",
      "unaries: 12\n",
      "[18.79807692  2.88461538]\n",
      "[20.00006213  2.38468422]\n",
      "[ 6.00990735 20.9642502 ]\n"
     ]
    }
   ],
   "source": [
    "# compute MAPE heatmap for Convolution - takes a long time to compute\n",
    "\n",
    "bins = 2\n",
    "unaries = 2\n",
    "start = 10\n",
    "\n",
    "meanMAPE, stdMAPE = computeMAPE(bins, unaries, start, testConvolution)\n"
   ]
  },
  {
   "cell_type": "code",
   "execution_count": 17,
   "id": "d5420d7b",
   "metadata": {},
   "outputs": [],
   "source": [
    "meanMAPE = np.flip(meanMAPE, 0)\n",
    "meanMAPE = np.around(meanMAPE, 2)\n",
    "\n",
    "stdMAPE = np.around(stdMAPE, 2)\n",
    "stdMAPE = np.flip(stdMAPE, 0)"
   ]
  },
  {
   "cell_type": "code",
   "execution_count": 18,
   "id": "0a82cf0c",
   "metadata": {},
   "outputs": [
    {
     "data": {
      "image/png": "[encoded data removed]",
      "text/plain": [
       "<Figure size 1040x1040 with 1 Axes>"
      ]
     },
     "metadata": {
      "needs_background": "light"
     },
     "output_type": "display_data"
    },
    {
     "name": "stdout",
     "output_type": "stream",
     "text": [
      "[[3.12 6.01]\n",
      " [5.75 6.54]]\n"
     ]
    },
    {
     "data": {
      "image/png": "[encoded data removed]",
      "text/plain": [
       "<Figure size 1040x1040 with 1 Axes>"
      ]
     },
     "metadata": {
      "needs_background": "light"
     },
     "output_type": "display_data"
    }
   ],
   "source": [
    "# plot heatmap\n",
    "\n",
    "fig, ax = plt.subplots(figsize=(13, 13), dpi=80)\n",
    "\n",
    "im = ax.imshow(meanMAPE)\n",
    "\n",
    "for i in range(0, meanMAPE.shape[0], ):\n",
    "    for j in range(meanMAPE.shape[1]):\n",
    "        text = ax.text(j, i, meanMAPE[i, j],\n",
    "                       ha=\"center\", va=\"center\", color=\"w\")\n",
    "\n",
    "locs, labels = plt.xticks()  # Get the current locations and labels.\n",
    "plt.xticks(np.arange(0, unaries), np.arange(start, start+unaries*2, step=2))\n",
    "plt.yticks(np.arange(0, bins), np.flip(np.arange(start, start+bins*2, step=2)))\n",
    "\n",
    "plt.xlabel('Number of unary variables')\n",
    "plt.ylabel('Number of bins')\n",
    "plt.title('Convolution, MAPE of mean')\n",
    "\n",
    "fig.tight_layout()\n",
    "\n",
    "plt.savefig(\"Inputs/testConvolution/meanHeatMap.jpeg\", dpi=300)\n",
    "plt.show()\n",
    "\n",
    "\n",
    "\n",
    "fig, ax = plt.subplots(figsize=(13, 13), dpi=80)\n",
    "im = ax.imshow(stdMAPE)\n",
    "\n",
    "for i in range(0, stdMAPE.shape[0], ):\n",
    "    for j in range(stdMAPE.shape[1]):\n",
    "        text = ax.text(j, i, stdMAPE[i, j],\n",
    "                       ha=\"center\", va=\"center\", color=\"w\")\n",
    "\n",
    "locs, labels = plt.xticks()  # Get the current locations and labels.\n",
    "plt.xticks(np.arange(0, unaries), np.arange(start, start+unaries*2, step=2))\n",
    "plt.yticks(np.arange(0, bins), np.flip(np.arange(start, start+bins*2, step=2)))\n",
    "\n",
    "\n",
    "\n",
    "plt.xlabel('Number of unary variables')\n",
    "plt.ylabel('Number of bins')\n",
    "plt.title('Convolution, MAPE of std')\n",
    "\n",
    "\n",
    "fig.tight_layout()\n",
    "\n",
    "plt.savefig(\"Inputs/testConvolution/stdHeatMap.jpeg\", dpi=300)\n",
    "plt.show()"
   ]
  },
  {
   "cell_type": "code",
   "execution_count": null,
   "id": "2452c652",
   "metadata": {},
   "outputs": [],
   "source": []
  },
  {
   "cell_type": "code",
   "execution_count": 19,
   "id": "a0bd8a6f",
   "metadata": {},
   "outputs": [
    {
     "name": "stdout",
     "output_type": "stream",
     "text": [
      "bins:10\n",
      "unaries: 10\n",
      "[11.83823529  1.82495201]\n",
      "[12.07130937  1.95038811]\n",
      "[1.93081025 6.43134083]\n",
      "bins:10\n",
      "unaries: 12\n",
      "[11.75        1.87082869]\n",
      "[12.07274924  1.95075269]\n",
      "[2.67336986 4.09708493]\n",
      "bins:12\n",
      "unaries: 10\n",
      "[11.66666667  2.13478141]\n",
      "[12.07239229  1.95057369]\n",
      "[3.36077234 9.44377135]\n",
      "bins:12\n",
      "unaries: 12\n",
      "[11.74107143  1.96715834]\n",
      "[12.07184394  1.94996746]\n",
      "[2.74003306 0.88159838]\n"
     ]
    }
   ],
   "source": [
    "# compute MAPE heatmap for MAXIMUM - takes a long time to compute\n",
    "\n",
    "\n",
    "bins = 2\n",
    "unaries = 2\n",
    "start = 10\n",
    "\n",
    "meanMAPE, stdMAPE = computeMAPE(bins, unaries, start, testMax)\n"
   ]
  },
  {
   "cell_type": "code",
   "execution_count": null,
   "id": "c55141a0",
   "metadata": {},
   "outputs": [],
   "source": []
  },
  {
   "cell_type": "code",
   "execution_count": 20,
   "id": "ccbb4df0",
   "metadata": {},
   "outputs": [],
   "source": [
    "meanMAPE = np.around(meanMAPE, 2)\n",
    "meanMAPE = np.flip(meanMAPE, 0)\n",
    "\n",
    "stdMAPE = np.around(stdMAPE, 2)\n",
    "stdMAPE = np.flip(stdMAPE, 0)"
   ]
  },
  {
   "cell_type": "code",
   "execution_count": 21,
   "id": "101942d9",
   "metadata": {},
   "outputs": [
    {
     "data": {
      "image/png": "[encoded data removed]",
      "text/plain": [
       "<Figure size 1040x1040 with 1 Axes>"
      ]
     },
     "metadata": {
      "needs_background": "light"
     },
     "output_type": "display_data"
    },
    {
     "data": {
      "image/png": "[encoded data removed]",
      "text/plain": [
       "<Figure size 1040x1040 with 1 Axes>"
      ]
     },
     "metadata": {
      "needs_background": "light"
     },
     "output_type": "display_data"
    }
   ],
   "source": [
    "# plot heatmap\n",
    "\n",
    "fig, ax = plt.subplots(figsize=(13, 13), dpi=80)\n",
    "\n",
    "im = ax.imshow(meanMAPE)\n",
    "\n",
    "for i in range(0, meanMAPE.shape[0], ):\n",
    "    for j in range(meanMAPE.shape[1]):\n",
    "        text = ax.text(j, i, meanMAPE[i, j],\n",
    "                       ha=\"center\", va=\"center\", color=\"w\")\n",
    "\n",
    "locs, labels = plt.xticks()  # Get the current locations and labels.\n",
    "plt.xticks(np.arange(0, unaries), np.arange(start, start+unaries*2, step=2))\n",
    "plt.yticks(np.arange(0, bins), np.flip(np.arange(start, start+bins*2, step=2)))\n",
    "\n",
    "\n",
    "fig.tight_layout()\n",
    "\n",
    "plt.savefig(\"Inputs/testMAX/meanHeatMap.jpeg\", dpi=100)\n",
    "plt.show()\n",
    "\n",
    "\n",
    "\n",
    "fig, ax = plt.subplots(figsize=(13, 13), dpi=80)\n",
    "im = ax.imshow(stdMAPE)\n",
    "\n",
    "for i in range(0, stdMAPE.shape[0], ):\n",
    "    for j in range(stdMAPE.shape[1]):\n",
    "        text = ax.text(j, i, stdMAPE[i, j],\n",
    "                       ha=\"center\", va=\"center\", color=\"w\")\n",
    "\n",
    "locs, labels = plt.xticks()  # Get the current locations and labels.\n",
    "plt.xticks(np.arange(0, unaries), np.arange(start, start+unaries*2, step=2))\n",
    "plt.yticks(np.arange(0, bins), np.flip(np.arange(start, start+bins*2, step=2)))\n",
    "\n",
    "\n",
    "fig.tight_layout()\n",
    "\n",
    "plt.savefig(\"Inputs/testMAX/stdHeatMap.jpeg\", dpi=100)\n",
    "plt.show()"
   ]
  },
  {
   "cell_type": "code",
   "execution_count": null,
   "id": "5099be9d",
   "metadata": {},
   "outputs": [],
   "source": []
  },
  {
   "cell_type": "code",
   "execution_count": null,
   "id": "f78272b7",
   "metadata": {},
   "outputs": [],
   "source": [
    "# compute MAPE heatmap for infinite ladder - takes a long time to compute\n",
    "\n",
    "bins = 25\n",
    "unaries = 25\n",
    "start = 10\n",
    "\n",
    "meanMAPE, stdMAPE = computeMAPE(bins, unaries, start, LadderNumpy)\n"
   ]
  },
  {
   "cell_type": "code",
   "execution_count": null,
   "id": "37fd89a0",
   "metadata": {},
   "outputs": [],
   "source": [
    "meanMAPE = np.around(meanMAPE, 2)\n",
    "meanMAPE = np.flip(meanMAPE, 0)\n",
    "\n",
    "stdMAPE = np.around(stdMAPE, 2)\n",
    "stdMAPE = np.flip(stdMAPE, 0)"
   ]
  },
  {
   "cell_type": "code",
   "execution_count": null,
   "id": "57f156a4",
   "metadata": {},
   "outputs": [],
   "source": [
    "# plot heatmap\n",
    "\n",
    "fig, ax = plt.subplots(figsize=(13, 13), dpi=80)\n",
    "\n",
    "im = ax.imshow(meanMAPE)\n",
    "\n",
    "for i in range(0, meanMAPE.shape[0], ):\n",
    "    for j in range(meanMAPE.shape[1]):\n",
    "        text = ax.text(j, i, meanMAPE[i, j],\n",
    "                       ha=\"center\", va=\"center\", color=\"w\")\n",
    "\n",
    "locs, labels = plt.xticks()  # Get the current locations and labels.\n",
    "plt.xticks(np.arange(0, unaries), np.arange(start, start+unaries*2, step=2))\n",
    "plt.yticks(np.arange(0, bins), np.flip(np.arange(start, start+bins*2, step=2)))\n",
    "\n",
    "\n",
    "fig.tight_layout()\n",
    "\n",
    "plt.savefig(\"Inputs/testInfiniteLadder/meanHeatMap.jpeg\", dpi=100)\n",
    "plt.show()\n",
    "\n",
    "\n",
    "\n",
    "fig, ax = plt.subplots(figsize=(13, 13), dpi=80)\n",
    "im = ax.imshow(stdMAPE)\n",
    "\n",
    "for i in range(0, stdMAPE.shape[0], ):\n",
    "    for j in range(stdMAPE.shape[1]):\n",
    "        text = ax.text(j, i, stdMAPE[i, j],\n",
    "                       ha=\"center\", va=\"center\", color=\"w\")\n",
    "\n",
    "locs, labels = plt.xticks()  # Get the current locations and labels.\n",
    "plt.xticks(np.arange(0, unaries), np.arange(start, start+unaries*2, step=2))\n",
    "plt.yticks(np.arange(0, bins), np.flip(np.arange(start, start+bins*2, step=2)))\n",
    "\n",
    "\n",
    "fig.tight_layout()\n",
    "\n",
    "plt.savefig(\"Inputs/testInfiniteLadder/stdHeatMap.jpeg\", dpi=100)\n",
    "plt.show()"
   ]
  },
  {
   "cell_type": "code",
   "execution_count": null,
   "id": "9baf2d71",
   "metadata": {},
   "outputs": [],
   "source": []
  }
 ],
 "metadata": {
  "kernelspec": {
   "display_name": "Python 3 (ipykernel)",
   "language": "python",
   "name": "python3"
  },
  "language_info": {
   "codemirror_mode": {
    "name": "ipython",
    "version": 3
   },
   "file_extension": ".py",
   "mimetype": "text/x-python",
   "name": "python",
   "nbconvert_exporter": "python",
   "pygments_lexer": "ipython3",
   "version": "3.10.2"
  }
 },
 "nbformat": 4,
 "nbformat_minor": 5
}
