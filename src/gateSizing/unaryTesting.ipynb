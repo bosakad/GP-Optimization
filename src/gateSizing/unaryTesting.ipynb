{
 "cells": [
  {
   "cell_type": "code",
   "execution_count": 1,
   "id": "f28182ab",
   "metadata": {},
   "outputs": [],
   "source": [
    "import histogramGenerator\n",
    "import test_infiniteLadder \n",
    "import numpy as np\n",
    "from test_algorithms import computeMAPE\n",
    "import matplotlib.pyplot as plt\n",
    "import SSTA\n",
    "from test_SSTA_Numpy import putTuplesIntoArray\n",
    "\n",
    "from randomVariableHist_Numpy import RandomVariable\n",
    "\n",
    "from examples_monteCarlo.infinite_ladder_montecarlo import MonteCarlo_inputs, MonteCarlo_nodes, get_moments_from_simulations\n",
    "\n",
    "\n",
    "from Main.node import Node\n",
    "from tabulate import tabulate\n",
    "%load_ext autoreload\n",
    "%autoreload 2\n",
    "%reload_ext autoreload"
   ]
  },
  {
   "cell_type": "code",
   "execution_count": 2,
   "id": "c6b1eb80",
   "metadata": {},
   "outputs": [],
   "source": [
    "# test max computation\n",
    "\n",
    "def testMax(numberOfBins, numberOfUnaries):\n",
    "\n",
    "    mu1 = 12\n",
    "    sigma1 = 2\n",
    "\n",
    "    mu2 = 6\n",
    "    sigma2 = 3\n",
    "\n",
    "    \n",
    "    numberOfSamples = 20000000\n",
    "#     numberOfBins = 100\n",
    "#     numberOfUnaries = 10000\n",
    "\n",
    "    interval = (-5, 20)\n",
    "\n",
    "    # DESIRED\n",
    "\n",
    "    rv1 = np.random.normal(mu1, sigma1, numberOfSamples)\n",
    "    rv2 = np.random.normal(mu2, sigma2, numberOfSamples)\n",
    "\n",
    "    max1 = np.maximum(rv1, rv2)\n",
    "    desired = np.array([np.mean(max1), np.std(max1)])\n",
    "\n",
    "\n",
    "    # ACTUAL\n",
    "\n",
    "    # histogram1\n",
    "    h1 = histogramGenerator.get_gauss_bins_UNARY(mu1, sigma1, numberOfBins, numberOfSamples, interval, numberOfUnaries)\n",
    "    h2 = histogramGenerator.get_gauss_bins_UNARY(mu2, sigma2, numberOfBins, numberOfSamples, interval, numberOfUnaries)\n",
    "\n",
    "    max2 = h1.maxOfDistributionsQUAD_FORMULA_UNARY(h2)\n",
    "\n",
    "    actual = np.array([max2.mean, max2.std])\n",
    "\n",
    "        # debug plotting\n",
    "    import matplotlib.pyplot as plt\n",
    "    h1 = histogramGenerator.get_Histogram_from_UNARY(h1)\n",
    "    h2 = histogramGenerator.get_Histogram_from_UNARY(h2)\n",
    "    max2 = histogramGenerator.get_Histogram_from_UNARY(max2)\n",
    "    \n",
    "#     plt.hist(h1.edges[:-1], h1.edges, weights=h1.bins)\n",
    "#     plt.hist(h2.edges[:-1], h2.edges, weights=h2.bins)\n",
    "    \n",
    "#     _ = plt.hist(rv1, bins=numberOfBins, density='PDF', alpha=0.7)\n",
    "#     _ = plt.hist(rv2, bins=numberOfBins, density='PDF', alpha=0.7)\n",
    "    plt.hist(max2.edges[:-1], max2.edges, weights=max2.bins)\n",
    "    _ = plt.hist(max1, bins=numberOfBins, density='PDF', alpha=0.7)\n",
    "    \n",
    "    return (actual, desired)\n",
    "    \n",
    "        # TESTING\n",
    "\n",
    "#     np.testing.assert_almost_equal(desired, actual, decimal=5)"
   ]
  },
  {
   "cell_type": "code",
   "execution_count": 4,
   "id": "0000b1ee",
   "metadata": {},
   "outputs": [
    {
     "name": "stdout",
     "output_type": "stream",
     "text": [
      "[12.09419918  1.9797683 ] [12.07265302  1.95043836]\n",
      "[0.17847081 1.50376143]\n"
     ]
    },
    {
     "data": {
      "image/png": "[encoded data removed]",
      "text/plain": [
       "<Figure size 432x288 with 1 Axes>"
      ]
     },
     "metadata": {
      "needs_background": "light"
     },
     "output_type": "display_data"
    }
   ],
   "source": [
    "# test max as wanted\n",
    "\n",
    "numberOfBins = 100\n",
    "numberOfUnaries = 100\n",
    "\n",
    "actual, desired = testMax(numberOfBins, numberOfUnaries)\n",
    "\n",
    "MAPE = 100 * np.abs((actual - desired) / desired)\n",
    "\n",
    "\n",
    "\n",
    "print(actual, desired)\n",
    "print(MAPE)"
   ]
  },
  {
   "cell_type": "code",
   "execution_count": 3,
   "id": "f6cfbb5e",
   "metadata": {},
   "outputs": [],
   "source": [
    "# test mean computation\n",
    "\n",
    "def testConvolution(numberOfBins, numberOfUnaries):\n",
    "\n",
    "    mu1 = 7\n",
    "    sigma1 = 2\n",
    "\n",
    "    mu2 = 10\n",
    "    sigma2 = 1\n",
    "\n",
    "    \n",
    "    numberOfSamples = 20000000\n",
    "#     numberOfBins = 100\n",
    "#     numberOfUnaries = 10000\n",
    "\n",
    "    interval = (-5, 40)\n",
    "\n",
    "    # DESIRED\n",
    "\n",
    "    rv1 = np.random.normal(mu1, sigma1, numberOfSamples)\n",
    "    rv2 = np.random.normal(mu2, sigma2, numberOfSamples)\n",
    "\n",
    "    max1 = rv1 + rv2\n",
    "    desired = np.array([np.mean(max1), np.std(max1)])\n",
    "\n",
    "\n",
    "    # ACTUAL\n",
    "\n",
    "    # histogram1\n",
    "    h1 = histogramGenerator.get_gauss_bins_UNARY(mu1, sigma1, numberOfBins, numberOfSamples, interval, numberOfUnaries)\n",
    "    h2 = histogramGenerator.get_gauss_bins_UNARY(mu2, sigma2, numberOfBins, numberOfSamples, interval, numberOfUnaries)\n",
    "\n",
    "    \n",
    "    rv1 = histogramGenerator.get_gauss_bins(mu1, sigma1, numberOfBins, numberOfSamples, interval)\n",
    "    rv2 = histogramGenerator.get_gauss_bins(mu2, sigma2, numberOfBins, numberOfSamples, interval)\n",
    "\n",
    "    \n",
    "    max2 = h1.convolutionOfTwoVarsNaiveSAME_UNARY(h2)\n",
    "#     max2 = rv1.convolutionOfTwoVarsShift(rv2)\n",
    "\n",
    "    actual = np.array([max2.mean, max2.std])\n",
    "\n",
    "    \n",
    "    import matplotlib.pyplot as plt\n",
    "    h1 = histogramGenerator.get_Histogram_from_UNARY(h1)\n",
    "    h2 = histogramGenerator.get_Histogram_from_UNARY(h2)\n",
    "    max2 = histogramGenerator.get_Histogram_from_UNARY(max2)\n",
    "    \n",
    "#     plt.hist(h1.edges[:-1], h1.edges, weights=h1.bins)\n",
    "#     plt.hist(h2.edges[:-1], h2.edges, weights=h2.bins)\n",
    "    plt.hist(max2.edges[:-1], max2.edges, weights=max2.bins)\n",
    "    _ = plt.hist(max1, bins=numberOfBins, density='PDF', alpha=0.7)\n",
    "    \n",
    "    return (actual, desired)\n",
    "    \n",
    "        # TESTING\n",
    "\n",
    "#     np.testing.assert_almost_equal(desired, actual, decimal=5)"
   ]
  },
  {
   "cell_type": "code",
   "execution_count": 12,
   "id": "0eeef356",
   "metadata": {},
   "outputs": [
    {
     "name": "stdout",
     "output_type": "stream",
     "text": [
      "[16.93687877  2.28113706] [16.99964515  2.23655278]\n",
      "[0.36922171 1.99343777]\n"
     ]
    },
    {
     "data": {
      "image/png": "[encoded data removed]",
      "text/plain": [
       "<Figure size 432x288 with 1 Axes>"
      ]
     },
     "metadata": {
      "needs_background": "light"
     },
     "output_type": "display_data"
    }
   ],
   "source": [
    "# test convolution as wanted\n",
    "\n",
    "numberOfBins = 200\n",
    "numberOfUnaries = 200\n",
    "actual, desired = testConvolution(numberOfBins, numberOfUnaries)\n",
    "\n",
    "MAPE = 100 * np.abs((actual - desired) / desired)\n",
    "\n",
    "print(actual, desired)\n",
    "print(MAPE)"
   ]
  },
  {
   "cell_type": "code",
   "execution_count": 4,
   "id": "dc51294e",
   "metadata": {},
   "outputs": [],
   "source": [
    "# test infinite ladder function\n",
    "\n",
    "def LadderNumpy(numberOfBins=100, numberOfUnaries=100, number_of_nodes=1, interval=(-8, 20)):\n",
    "\n",
    "    n_samples = 2000000\n",
    "    seed = 0\n",
    "\n",
    "    gateParams = [0.0, 1.0]\n",
    "\n",
    "    # fix a random seed seed exists\n",
    "    if seed != None:\n",
    "        seed = seed\n",
    "        np.random.seed(seed)\n",
    "\n",
    "        \n",
    "    ####################################\n",
    "    ####### Generate Input data ########\n",
    "    ####################################\n",
    "\n",
    "    # list with inputs' mean values\n",
    "    input_means = [np.random.randint(20, 70) / 10 for _ in range(number_of_nodes + 1)]\n",
    "    # list with inputs' stds\n",
    "    input_stds = [np.random.randint(20, 130) / 100 for _ in range(number_of_nodes + 1)]\n",
    "\n",
    "    # CVXPY\n",
    "\n",
    "    constraints = []\n",
    "\n",
    "    # generate inputs\n",
    "    startingNodes = []\n",
    "    for i in range(0, number_of_nodes + 1):\n",
    "        g = histogramGenerator.get_gauss_bins_UNARY(input_means[i], input_stds[i], numberOfBins, n_samples,\n",
    "                                                    interval, numberOfUnaries)\n",
    "\n",
    "        node = Node(g)\n",
    "        startingNodes.append(node)\n",
    "\n",
    "        # generetate nodes\n",
    "    generatedNodes = []\n",
    "    for i in range(0, number_of_nodes):\n",
    "        g = histogramGenerator.get_gauss_bins_UNARY(gateParams[0], gateParams[1], numberOfBins, n_samples, interval,\n",
    "                                                    numberOfUnaries)\n",
    "\n",
    "        node = Node(g)\n",
    "        generatedNodes.append(node)\n",
    "\n",
    "    # set circuit design\n",
    "\n",
    "    # start\n",
    "    startingNodes[0].setNextNodes([generatedNodes[0]])\n",
    "\n",
    "    # upper part\n",
    "    for i in range(1, number_of_nodes + 1):\n",
    "        start = startingNodes[i]\n",
    "        start.setNextNodes([generatedNodes[i - 1]])\n",
    "\n",
    "        # lower part\n",
    "    for i in range(0, number_of_nodes - 1):\n",
    "        node = generatedNodes[i]\n",
    "        node.setNextNodes([generatedNodes[i + 1]])\n",
    "\n",
    "    delays = SSTA.calculateCircuitDelay(startingNodes, cvxpy=False, unary=True)\n",
    "\n",
    "    delays = delays[number_of_nodes + 1:]\n",
    "\n",
    "    rvs = []\n",
    "\n",
    "    for gate in range(0, number_of_nodes):  # construct RVs\n",
    "\n",
    "        finalBins = np.zeros((numberOfBins, numberOfUnaries))\n",
    "        for bin in range(0, numberOfBins):\n",
    "            for unary in range(0, numberOfUnaries):\n",
    "                finalBins[bin, unary] = ((delays[gate].bins)[bin])[unary]\n",
    "\n",
    "        rvs.append(RandomVariable(finalBins, generatedNodes[0].randVar.edges, unary=True))\n",
    "\n",
    "    # simulate inputs\n",
    "    nodes_simulation = [0 for _ in range(number_of_nodes)]\n",
    "    inputs_simulation = MonteCarlo_inputs(input_means, input_stds, n_samples, 'Normal')\n",
    "\n",
    "    # traverse the circuit\n",
    "    nodes_simulation[0] = MonteCarlo_nodes(inputs_simulation[0], inputs_simulation[1], gateParams, n_samples)\n",
    "    for i in range(1, number_of_nodes):\n",
    "        nodes_simulation[i] = MonteCarlo_nodes(nodes_simulation[i - 1], inputs_simulation[i + 1], gateParams,\n",
    "                                               n_samples)\n",
    "\n",
    "    desired = get_moments_from_simulations(nodes_simulation)\n",
    "    import matplotlib.pyplot as plt\n",
    "    max2 = histogramGenerator.get_Histogram_from_UNARY(rvs[-1])\n",
    "    \n",
    "#     plt.hist(h1.edges[:-1], h1.edges, weights=h1.bins)\n",
    "#     plt.hist(h2.edges[:-1], h2.edges, weights=h2.bins)\n",
    "    plt.hist(max2.edges[:-1], max2.edges, weights=max2.bins)\n",
    "    _ = plt.hist(nodes_simulation[-1], bins=numberOfBins, density='PDF', alpha=0.7)\n",
    "        \n",
    "    return np.array([rvs[-1].mean, rvs[-1].std]), np.array(desired[0])\n"
   ]
  },
  {
   "cell_type": "code",
   "execution_count": 6,
   "id": "47768cc1",
   "metadata": {},
   "outputs": [
    {
     "name": "stdout",
     "output_type": "stream",
     "text": [
      "[7.08108714 1.31456364] [7.04774699 1.23018441]\n",
      "[0.4730611  6.85907152]\n"
     ]
    },
    {
     "data": {
      "image/png": "[encoded data removed]",
      "text/plain": [
       "<Figure size 432x288 with 1 Axes>"
      ]
     },
     "metadata": {
      "needs_background": "light"
     },
     "output_type": "display_data"
    }
   ],
   "source": [
    "numberOfNodes = 1\n",
    "numberOfBins = 118\n",
    "numberOfUnaries = 118\n",
    "\n",
    "actual, desired = LadderNumpy(numberOfBins, numberOfUnaries, numberOfNodes)\n",
    "\n",
    "# actual = np.zeros((numberOfNodes, 2))\n",
    "# desired = np.zeros((numberOfNodes, 2))\n",
    "\n",
    "# for i in range(0, numberOfNodes):\n",
    "#     actual[i, 0] = actualNonForm[i].mean\n",
    "#     actual[i, 1] = actualNonForm[i].std\n",
    "    \n",
    "#     desired[i, 0] = desiredNonForm[i, 0]\n",
    "#     desired[i, 1] = desiredNonForm[i, 1]\n",
    "    \n",
    "\n",
    "\n",
    "MAPE = 100 * np.abs((actual - desired) / desired)\n",
    "\n",
    "print(actual, desired)\n",
    "print(MAPE)"
   ]
  },
  {
   "cell_type": "code",
   "execution_count": null,
   "id": "2ecd8f44",
   "metadata": {},
   "outputs": [],
   "source": []
  },
  {
   "cell_type": "code",
   "execution_count": null,
   "id": "435b0e5e",
   "metadata": {},
   "outputs": [],
   "source": [
    "        # HEAT MAPS"
   ]
  },
  {
   "cell_type": "code",
   "execution_count": 5,
   "id": "b7299750",
   "metadata": {},
   "outputs": [
    {
     "name": "stdout",
     "output_type": "stream",
     "text": [
      "bins:10\n",
      "unaries: 10\n",
      "[17.5   2.25]\n",
      "[17.00041466  2.23642803]\n",
      "[2.93866564 0.60685911]\n",
      "bins:10\n",
      "unaries: 12\n",
      "[17.5   2.25]\n",
      "[16.99948492  2.23557236]\n",
      "[2.94429556 0.64536692]\n",
      "bins:12\n",
      "unaries: 10\n",
      "[15.625       3.06186218]\n",
      "[17.00011889  2.23534605]\n",
      "[ 8.08887808 36.97486234]\n",
      "bins:12\n",
      "unaries: 12\n",
      "[15.625       3.06186218]\n",
      "[16.99982416  2.23629275]\n",
      "[ 8.08728457 36.91687651]\n"
     ]
    },
    {
     "data": {
      "image/png": "[encoded data removed]",
      "text/plain": [
       "<Figure size 432x288 with 1 Axes>"
      ]
     },
     "metadata": {
      "needs_background": "light"
     },
     "output_type": "display_data"
    }
   ],
   "source": [
    "# compute MAPE heatmap for Convolution - takes a long time to compute\n",
    "\n",
    "bins = 2\n",
    "unaries = 2\n",
    "start = 10\n",
    "\n",
    "meanMAPE, stdMAPE = computeMAPE(bins, unaries, start, testConvolution)\n"
   ]
  },
  {
   "cell_type": "code",
   "execution_count": 6,
   "id": "d5420d7b",
   "metadata": {},
   "outputs": [],
   "source": [
    "meanMAPE = np.flip(meanMAPE, 0)\n",
    "meanMAPE = np.around(meanMAPE, 2)\n",
    "\n",
    "stdMAPE = np.around(stdMAPE, 2)\n",
    "stdMAPE = np.flip(stdMAPE, 0)"
   ]
  },
  {
   "cell_type": "code",
   "execution_count": 28,
   "id": "0a82cf0c",
   "metadata": {},
   "outputs": [
    {
     "data": {
      "image/png": "[encoded data removed]",
      "text/plain": [
       "<Figure size 432x288 with 2 Axes>"
      ]
     },
     "metadata": {
      "needs_background": "light"
     },
     "output_type": "display_data"
    },
    {
     "data": {
      "image/png": "[encoded data removed]",
      "text/plain": [
       "<Figure size 432x288 with 2 Axes>"
      ]
     },
     "metadata": {
      "needs_background": "light"
     },
     "output_type": "display_data"
    }
   ],
   "source": [
    "# plot heatmap\n",
    "\n",
    "import numpy as np\n",
    "import matplotlib.pyplot as plt\n",
    "\n",
    "# fig, ax = plt.subplots(figsize=(5, 5), dpi=80)\n",
    "\n",
    "# divider = make_axes_locatable(ax)\n",
    "# cax = divider.append_axes('right', size='5%', pad=0.05)\n",
    "\n",
    "im = plt.imshow(meanMAPE)\n",
    "\n",
    "# for i in range(0, meanMAPE.shape[0], ):\n",
    "#     for j in range(meanMAPE.shape[1]):\n",
    "#         text = ax.text(j, i, meanMAPE[i, j],\n",
    "#                        ha=\"center\", va=\"center\", color=\"w\")\n",
    "\n",
    "locs, labels = plt.xticks()  # Get the current locations and labels.\n",
    "plt.xticks(np.arange(0, unaries), np.arange(start, start+unaries*2, step=2))\n",
    "plt.yticks(np.arange(0, bins), np.flip(np.arange(start, start+bins*2, step=2)))\n",
    "\n",
    "plt.xlabel('Number of unary variables')\n",
    "plt.ylabel('Number of bins')\n",
    "plt.title('Convolution, MAPE of mean')\n",
    "\n",
    "# fig.tight_layout()\n",
    "\n",
    "plt.colorbar()\n",
    "\n",
    "# plt.savefig(\"Inputs/testConvolution/meanHeatMap.jpeg\", dpi=300)\n",
    "plt.show()\n",
    "\n",
    "\n",
    "# fig, ax = plt.subplots(figsize=(5, 5), dpi=80)\n",
    "im = plt.imshow(stdMAPE)\n",
    "plt.colorbar()\n",
    "\n",
    "# for i in range(0, stdMAPE.shape[0], ):\n",
    "#     for j in range(stdMAPE.shape[1]):\n",
    "#         text = ax.text(j, i, stdMAPE[i, j],\n",
    "#                        ha=\"center\", va=\"center\", color=\"w\")\n",
    "\n",
    "locs, labels = plt.xticks()  # Get the current locations and labels.\n",
    "plt.xticks(np.arange(0, unaries), np.arange(start, start+unaries*2, step=2))\n",
    "plt.yticks(np.arange(0, bins), np.flip(np.arange(start, start+bins*2, step=2)))\n",
    "\n",
    "\n",
    "\n",
    "plt.xlabel('Number of unary variables')\n",
    "plt.ylabel('Number of bins')\n",
    "plt.title('Convolution, MAPE of std')\n",
    "\n",
    "\n",
    "# fig.tight_layout()\n",
    "\n",
    "# plt.savefig(\"Inputs/testConvolution/stdHeatMap.jpeg\", dpi=300)\n",
    "plt.show()"
   ]
  },
  {
   "cell_type": "code",
   "execution_count": null,
   "id": "2452c652",
   "metadata": {},
   "outputs": [],
   "source": []
  },
  {
   "cell_type": "code",
   "execution_count": 36,
   "id": "a0bd8a6f",
   "metadata": {},
   "outputs": [
    {
     "name": "stdout",
     "output_type": "stream",
     "text": [
      "bins:10\n",
      "unaries: 10\n",
      "[11.25        2.04124145]\n",
      "[12.07199516  1.95055366]\n",
      "[6.80910774 4.64933578]\n",
      "bins:10\n",
      "unaries: 12\n",
      "[11.25        2.04124145]\n",
      "[12.0716215   1.95046253]\n",
      "[6.8062232  4.65422544]\n",
      "bins:12\n",
      "unaries: 10\n",
      "[12.70833333  1.70103454]\n",
      "[12.07170314  1.95066595]\n",
      "[ 5.27373962 12.79724028]\n",
      "bins:12\n",
      "unaries: 12\n",
      "[11.66666667  2.32923748]\n",
      "[12.07272689  1.95050342]\n",
      "[ 3.36345074 19.41724669]\n"
     ]
    },
    {
     "data": {
      "image/png": "[encoded data removed]",
      "text/plain": [
       "<Figure size 432x288 with 1 Axes>"
      ]
     },
     "metadata": {
      "needs_background": "light"
     },
     "output_type": "display_data"
    }
   ],
   "source": [
    "# compute MAPE heatmap for MAXIMUM - takes a long time to compute\n",
    "\n",
    "\n",
    "bins = 2\n",
    "unaries = 2\n",
    "start = 10\n",
    "\n",
    "meanMAPE, stdMAPE = computeMAPE(bins, unaries, start, testMax)\n"
   ]
  },
  {
   "cell_type": "code",
   "execution_count": null,
   "id": "c55141a0",
   "metadata": {},
   "outputs": [],
   "source": []
  },
  {
   "cell_type": "code",
   "execution_count": 37,
   "id": "ccbb4df0",
   "metadata": {},
   "outputs": [],
   "source": [
    "meanMAPE = np.around(meanMAPE, 2)\n",
    "meanMAPE = np.flip(meanMAPE, 0)\n",
    "\n",
    "stdMAPE = np.around(stdMAPE, 2)\n",
    "stdMAPE = np.flip(stdMAPE, 0)"
   ]
  },
  {
   "cell_type": "code",
   "execution_count": 38,
   "id": "101942d9",
   "metadata": {},
   "outputs": [
    {
     "data": {
      "image/png": "[encoded data removed]",
      "text/plain": [
       "<Figure size 1040x1040 with 1 Axes>"
      ]
     },
     "metadata": {
      "needs_background": "light"
     },
     "output_type": "display_data"
    },
    {
     "data": {
      "image/png": "[encoded data removed]",
      "text/plain": [
       "<Figure size 1040x1040 with 1 Axes>"
      ]
     },
     "metadata": {
      "needs_background": "light"
     },
     "output_type": "display_data"
    }
   ],
   "source": [
    "# plot heatmap\n",
    "\n",
    "fig, ax = plt.subplots(figsize=(13, 13), dpi=80)\n",
    "\n",
    "im = ax.imshow(meanMAPE)\n",
    "\n",
    "for i in range(0, meanMAPE.shape[0], ):\n",
    "    for j in range(meanMAPE.shape[1]):\n",
    "        text = ax.text(j, i, meanMAPE[i, j],\n",
    "                       ha=\"center\", va=\"center\", color=\"w\")\n",
    "\n",
    "locs, labels = plt.xticks()  # Get the current locations and labels.\n",
    "plt.xticks(np.arange(0, unaries), np.arange(start, start+unaries*2, step=2))\n",
    "plt.yticks(np.arange(0, bins), np.flip(np.arange(start, start+bins*2, step=2)))\n",
    "\n",
    "\n",
    "fig.tight_layout()\n",
    "\n",
    "plt.savefig(\"Inputs/testMAX/meanHeatMap.jpeg\", dpi=100)\n",
    "plt.show()\n",
    "\n",
    "\n",
    "\n",
    "fig, ax = plt.subplots(figsize=(13, 13), dpi=80)\n",
    "im = ax.imshow(stdMAPE)\n",
    "\n",
    "for i in range(0, stdMAPE.shape[0], ):\n",
    "    for j in range(stdMAPE.shape[1]):\n",
    "        text = ax.text(j, i, stdMAPE[i, j],\n",
    "                       ha=\"center\", va=\"center\", color=\"w\")\n",
    "\n",
    "locs, labels = plt.xticks()  # Get the current locations and labels.\n",
    "plt.xticks(np.arange(0, unaries), np.arange(start, start+unaries*2, step=2))\n",
    "plt.yticks(np.arange(0, bins), np.flip(np.arange(start, start+bins*2, step=2)))\n",
    "\n",
    "\n",
    "fig.tight_layout()\n",
    "\n",
    "plt.savefig(\"Inputs/testMAX/stdHeatMap.jpeg\", dpi=100)\n",
    "plt.show()"
   ]
  },
  {
   "cell_type": "code",
   "execution_count": null,
   "id": "5099be9d",
   "metadata": {},
   "outputs": [],
   "source": []
  },
  {
   "cell_type": "code",
   "execution_count": 40,
   "id": "f78272b7",
   "metadata": {},
   "outputs": [
    {
     "name": "stdout",
     "output_type": "stream",
     "text": [
      "bins:10\n",
      "unaries: 10\n",
      "[6.5 0. ]\n",
      "[7.04774699 1.23018441]\n",
      "[  7.77194452 100.        ]\n",
      "bins:10\n",
      "unaries: 12\n",
      "[6.5 0. ]\n",
      "[7.04774699 1.23018441]\n",
      "[  7.77194452 100.        ]\n",
      "bins:12\n",
      "unaries: 10\n",
      "[6.5        2.41666667]\n",
      "[7.04774699 1.23018441]\n",
      "[ 7.77194452 96.447512  ]\n",
      "bins:12\n",
      "unaries: 12\n",
      "[6.5        2.41666667]\n",
      "[7.04774699 1.23018441]\n",
      "[ 7.77194452 96.447512  ]\n"
     ]
    },
    {
     "data": {
      "image/png": "[encoded data removed]",
      "text/plain": [
       "<Figure size 432x288 with 1 Axes>"
      ]
     },
     "metadata": {
      "needs_background": "light"
     },
     "output_type": "display_data"
    }
   ],
   "source": [
    "# compute MAPE heatmap for infinite ladder - takes a long time to compute\n",
    "\n",
    "bins = 2\n",
    "unaries = 2\n",
    "start = 10\n",
    "\n",
    "meanMAPE, stdMAPE = computeMAPE(bins, unaries, start, LadderNumpy)\n"
   ]
  },
  {
   "cell_type": "code",
   "execution_count": 41,
   "id": "37fd89a0",
   "metadata": {},
   "outputs": [],
   "source": [
    "meanMAPE = np.around(meanMAPE, 2)\n",
    "meanMAPE = np.flip(meanMAPE, 0)\n",
    "\n",
    "stdMAPE = np.around(stdMAPE, 2)\n",
    "stdMAPE = np.flip(stdMAPE, 0)"
   ]
  },
  {
   "cell_type": "code",
   "execution_count": 42,
   "id": "57f156a4",
   "metadata": {},
   "outputs": [
    {
     "data": {
      "image/png": "[encoded data removed]",
      "text/plain": [
       "<Figure size 1040x1040 with 1 Axes>"
      ]
     },
     "metadata": {
      "needs_background": "light"
     },
     "output_type": "display_data"
    },
    {
     "data": {
      "image/png": "[encoded data removed]",
      "text/plain": [
       "<Figure size 1040x1040 with 1 Axes>"
      ]
     },
     "metadata": {
      "needs_background": "light"
     },
     "output_type": "display_data"
    }
   ],
   "source": [
    "# plot heatmap\n",
    "\n",
    "fig, ax = plt.subplots(figsize=(13, 13), dpi=80)\n",
    "\n",
    "im = ax.imshow(meanMAPE)\n",
    "\n",
    "for i in range(0, meanMAPE.shape[0], ):\n",
    "    for j in range(meanMAPE.shape[1]):\n",
    "        text = ax.text(j, i, meanMAPE[i, j],\n",
    "                       ha=\"center\", va=\"center\", color=\"w\")\n",
    "\n",
    "locs, labels = plt.xticks()  # Get the current locations and labels.\n",
    "plt.xticks(np.arange(0, unaries), np.arange(start, start+unaries*2, step=2))\n",
    "plt.yticks(np.arange(0, bins), np.flip(np.arange(start, start+bins*2, step=2)))\n",
    "\n",
    "\n",
    "fig.tight_layout()\n",
    "\n",
    "plt.savefig(\"Inputs/testInfiniteLadder/meanHeatMap.jpeg\", dpi=100)\n",
    "plt.show()\n",
    "\n",
    "\n",
    "\n",
    "fig, ax = plt.subplots(figsize=(13, 13), dpi=80)\n",
    "im = ax.imshow(stdMAPE)\n",
    "\n",
    "for i in range(0, stdMAPE.shape[0], ):\n",
    "    for j in range(stdMAPE.shape[1]):\n",
    "        text = ax.text(j, i, stdMAPE[i, j],\n",
    "                       ha=\"center\", va=\"center\", color=\"w\")\n",
    "\n",
    "locs, labels = plt.xticks()  # Get the current locations and labels.\n",
    "plt.xticks(np.arange(0, unaries), np.arange(start, start+unaries*2, step=2))\n",
    "plt.yticks(np.arange(0, bins), np.flip(np.arange(start, start+bins*2, step=2)))\n",
    "\n",
    "\n",
    "fig.tight_layout()\n",
    "\n",
    "plt.savefig(\"Inputs/testInfiniteLadder/stdHeatMap.jpeg\", dpi=100)\n",
    "plt.show()"
   ]
  },
  {
   "cell_type": "code",
   "execution_count": null,
   "id": "9baf2d71",
   "metadata": {},
   "outputs": [],
   "source": []
  }
 ],
 "metadata": {
  "kernelspec": {
   "display_name": "Python 3 (ipykernel)",
   "language": "python",
   "name": "python3"
  },
  "language_info": {
   "codemirror_mode": {
    "name": "ipython",
    "version": 3
   },
   "file_extension": ".py",
   "mimetype": "text/x-python",
   "name": "python",
   "nbconvert_exporter": "python",
   "pygments_lexer": "ipython3",
   "version": "3.10.2"
  }
 },
 "nbformat": 4,
 "nbformat_minor": 5
}
